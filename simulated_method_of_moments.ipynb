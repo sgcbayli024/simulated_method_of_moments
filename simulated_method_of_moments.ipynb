{
 "cells": [
  {
   "cell_type": "code",
   "execution_count": 1,
   "metadata": {},
   "outputs": [],
   "source": [
    "import pandas as pd\n",
    "import numpy as np\n",
    "import matplotlib.pyplot as plt\n",
    "from scipy.optimize import minimize"
   ]
  },
  {
   "cell_type": "code",
   "execution_count": 2,
   "metadata": {},
   "outputs": [
    {
     "data": {
      "text/html": [
       "<div>\n",
       "<style scoped>\n",
       "    .dataframe tbody tr th:only-of-type {\n",
       "        vertical-align: middle;\n",
       "    }\n",
       "\n",
       "    .dataframe tbody tr th {\n",
       "        vertical-align: top;\n",
       "    }\n",
       "\n",
       "    .dataframe thead th {\n",
       "        text-align: right;\n",
       "    }\n",
       "</style>\n",
       "<table border=\"1\" class=\"dataframe\">\n",
       "  <thead>\n",
       "    <tr style=\"text-align: right;\">\n",
       "      <th></th>\n",
       "      <th>person_ID</th>\n",
       "      <th>year</th>\n",
       "      <th>log_wage</th>\n",
       "    </tr>\n",
       "  </thead>\n",
       "  <tbody>\n",
       "    <tr>\n",
       "      <th>0</th>\n",
       "      <td>4.0</td>\n",
       "      <td>1982</td>\n",
       "      <td>9.615806</td>\n",
       "    </tr>\n",
       "    <tr>\n",
       "      <th>1</th>\n",
       "      <td>5.0</td>\n",
       "      <td>1974</td>\n",
       "      <td>9.479604</td>\n",
       "    </tr>\n",
       "    <tr>\n",
       "      <th>2</th>\n",
       "      <td>5.0</td>\n",
       "      <td>1975</td>\n",
       "      <td>9.384294</td>\n",
       "    </tr>\n",
       "    <tr>\n",
       "      <th>3</th>\n",
       "      <td>5.0</td>\n",
       "      <td>1976</td>\n",
       "      <td>7.228388</td>\n",
       "    </tr>\n",
       "    <tr>\n",
       "      <th>4</th>\n",
       "      <td>5.0</td>\n",
       "      <td>1977</td>\n",
       "      <td>9.428673</td>\n",
       "    </tr>\n",
       "    <tr>\n",
       "      <th>...</th>\n",
       "      <td>...</td>\n",
       "      <td>...</td>\n",
       "      <td>...</td>\n",
       "    </tr>\n",
       "    <tr>\n",
       "      <th>33774</th>\n",
       "      <td>35355.0</td>\n",
       "      <td>1975</td>\n",
       "      <td>9.026418</td>\n",
       "    </tr>\n",
       "    <tr>\n",
       "      <th>33775</th>\n",
       "      <td>35355.0</td>\n",
       "      <td>1976</td>\n",
       "      <td>8.780787</td>\n",
       "    </tr>\n",
       "    <tr>\n",
       "      <th>33776</th>\n",
       "      <td>35355.0</td>\n",
       "      <td>1977</td>\n",
       "      <td>9.086702</td>\n",
       "    </tr>\n",
       "    <tr>\n",
       "      <th>33777</th>\n",
       "      <td>35356.0</td>\n",
       "      <td>1975</td>\n",
       "      <td>8.348064</td>\n",
       "    </tr>\n",
       "    <tr>\n",
       "      <th>33778</th>\n",
       "      <td>35356.0</td>\n",
       "      <td>1976</td>\n",
       "      <td>7.288244</td>\n",
       "    </tr>\n",
       "  </tbody>\n",
       "</table>\n",
       "<p>33779 rows × 3 columns</p>\n",
       "</div>"
      ],
      "text/plain": [
       "       person_ID  year  log_wage\n",
       "0            4.0  1982  9.615806\n",
       "1            5.0  1974  9.479604\n",
       "2            5.0  1975  9.384294\n",
       "3            5.0  1976  7.228388\n",
       "4            5.0  1977  9.428673\n",
       "...          ...   ...       ...\n",
       "33774    35355.0  1975  9.026418\n",
       "33775    35355.0  1976  8.780787\n",
       "33776    35355.0  1977  9.086702\n",
       "33777    35356.0  1975  8.348064\n",
       "33778    35356.0  1976  7.288244\n",
       "\n",
       "[33779 rows x 3 columns]"
      ]
     },
     "metadata": {},
     "output_type": "display_data"
    }
   ],
   "source": [
    "data = pd.read_stata('C:\\\\Users\\\\bayle\\\\Documents\\\\HW4.dta')\n",
    "display(data)"
   ]
  },
  {
   "cell_type": "code",
   "execution_count": 3,
   "metadata": {},
   "outputs": [
    {
     "name": "stdout",
     "output_type": "stream",
     "text": [
      "['person_ID', 'year', 'log_wage']\n"
     ]
    }
   ],
   "source": [
    "variables_list = data.columns.tolist()\n",
    "print(variables_list)"
   ]
  },
  {
   "cell_type": "code",
   "execution_count": 3,
   "metadata": {},
   "outputs": [],
   "source": [
    "variance_by_year = data.groupby('year')['log_wage'].var()\n",
    "covariance_across_years = data.pivot_table(index='person_ID', columns='year', values='log_wage').cov()\n",
    "#display(covariance_across_years)\n",
    "data_moments = covariance_across_years.reset_index()\n",
    "data_moments = data_moments.iloc[:,1:].values\n",
    "data_moments = np.tril(data_moments)\n",
    "data_moments = data_moments.reshape(-1,1)\n",
    "data_moments = data_moments[data_moments!=0].reshape(-1,1)\n",
    "#display(data_moments)"
   ]
  },
  {
   "cell_type": "markdown",
   "metadata": {},
   "source": [
    "## VVD simulation"
   ]
  },
  {
   "cell_type": "code",
   "execution_count": 4,
   "metadata": {},
   "outputs": [],
   "source": [
    "def simulate_income_data(p, num_individuals, num_periods):\n",
    "\n",
    "    var_alpha, rho, var_eta, var_epsilon = p\n",
    "\n",
    "    np.random.seed(4) # VVD\n",
    "    \n",
    "    # Simulate individual-specific fixed effects\n",
    "    individual_fixed_effects = np.random.normal(scale=np.sqrt(var_alpha), size=num_individuals)\n",
    "    \n",
    "    # Initialize DataFrame to store simulated income data\n",
    "    simulated_data = pd.DataFrame(index=range(num_individuals), columns=range(num_periods))\n",
    "    \n",
    "    # Simulate income data for each individual\n",
    "    for i in range(num_individuals):\n",
    "\n",
    "        # Initialise the autoregressive process\n",
    "        z_process = 0\n",
    "        \n",
    "        # Generate income data for each period\n",
    "        for t in range(num_periods):\n",
    "            \n",
    "            # Simulate shock to the autoregressive process\n",
    "            eta = np.random.normal(scale=np.sqrt(var_eta))\n",
    "            \n",
    "            # Update autoregressive process\n",
    "            z_process = rho * z_process + eta\n",
    "            \n",
    "            # Simulate income for the current period\n",
    "            income = individual_fixed_effects[i] + z_process + np.random.normal(scale=np.sqrt(var_epsilon))\n",
    "            \n",
    "            # Store simulated income in DataFrame\n",
    "            simulated_data.at[i, t] = income\n",
    "    \n",
    "    cov_matrix = simulated_data.cov()\n",
    "\n",
    "    simulated_moments = cov_matrix.values\n",
    "\n",
    "    simulated_moments = np.tril(simulated_moments)\n",
    "\n",
    "    simulated_moments = simulated_moments.reshape(-1,1)\n",
    "\n",
    "    simulated_moments = simulated_moments[simulated_moments!=0].reshape(-1,1) \n",
    "\n",
    "    return simulated_moments"
   ]
  },
  {
   "cell_type": "code",
   "execution_count": 5,
   "metadata": {},
   "outputs": [],
   "source": [
    "# Simulate income data\n",
    "params = [0.1,0.8,0.1,0.1]\n",
    "simulated_moments = simulate_income_data(params, num_individuals=1000, num_periods=19)"
   ]
  },
  {
   "cell_type": "code",
   "execution_count": 6,
   "metadata": {},
   "outputs": [],
   "source": [
    "def metric(p, data_moments, num_individuals, num_periods):\n",
    "\n",
    "    simulated_moments = simulate_income_data(p, num_individuals, num_periods)\n",
    "\n",
    "    distance = simulated_moments - data_moments\n",
    "\n",
    "    dist = np.dot(distance.T, distance)\n",
    "    \n",
    "    return dist"
   ]
  },
  {
   "cell_type": "code",
   "execution_count": 7,
   "metadata": {},
   "outputs": [
    {
     "name": "stdout",
     "output_type": "stream",
     "text": [
      "[[2.21436166]]\n"
     ]
    }
   ],
   "source": [
    "dist = metric(params, data_moments, 1000, 19)\n",
    "print(dist)"
   ]
  },
  {
   "cell_type": "code",
   "execution_count": 8,
   "metadata": {},
   "outputs": [],
   "source": [
    "def SMM(p, num_individuals, num_periods, data_moments):\n",
    "\n",
    "    bounds = [(0, 1), (0, 1), (0, 1), (0, 1)]\n",
    "\n",
    "    result = minimize(metric, p, args=(data_moments, num_individuals, num_periods), method='Nelder-Mead', bounds=bounds)\n",
    "\n",
    "    matched_coefficients = result.x\n",
    "\n",
    "    return matched_coefficients"
   ]
  },
  {
   "cell_type": "code",
   "execution_count": 9,
   "metadata": {},
   "outputs": [],
   "source": [
    "initial_params=[0.5,0.9,0.5,0.5]\n",
    "initial_params_array = np.array(initial_params)"
   ]
  },
  {
   "cell_type": "code",
   "execution_count": 244,
   "metadata": {},
   "outputs": [
    {
     "name": "stdout",
     "output_type": "stream",
     "text": [
      "[0.13803823 0.91605702 0.05730137 0.20404534]\n"
     ]
    }
   ],
   "source": [
    "coeffs = SMM(initial_params_array, 1000, 19, data_moments)\n",
    "print(coeffs)"
   ]
  },
  {
   "cell_type": "markdown",
   "metadata": {},
   "source": [
    "## Now that the code runs, let's run it using 11 different values for the seed (1 of which is the seed used above)"
   ]
  },
  {
   "cell_type": "code",
   "execution_count": 10,
   "metadata": {},
   "outputs": [],
   "source": [
    "def simulate_income_data_seeded(p, num_individuals, num_periods, seed):\n",
    "\n",
    "    var_alpha, rho, var_eta, var_epsilon = p\n",
    "\n",
    "    np.random.seed(seed) # VVD\n",
    "    \n",
    "    # Simulate individual-specific fixed effects\n",
    "    individual_fixed_effects = np.random.normal(scale=np.sqrt(var_alpha), size=num_individuals)\n",
    "    \n",
    "    # Initialize DataFrame to store simulated income data\n",
    "    simulated_data = pd.DataFrame(index=range(num_individuals), columns=range(num_periods))\n",
    "    \n",
    "    # Simulate income data for each individual\n",
    "    for i in range(num_individuals):\n",
    "\n",
    "        # Initialise the autoregressive process\n",
    "        z_process = 0\n",
    "        \n",
    "        # Generate income data for each period\n",
    "        for t in range(num_periods):\n",
    "            \n",
    "            # Simulate shock to the autoregressive process\n",
    "            eta = np.random.normal(scale=np.sqrt(var_eta))\n",
    "            \n",
    "            # Update autoregressive process\n",
    "            z_process = rho * z_process + eta\n",
    "            \n",
    "            # Simulate income for the current period\n",
    "            income = individual_fixed_effects[i] + z_process + np.random.normal(scale=np.sqrt(var_epsilon))\n",
    "            \n",
    "            # Store simulated income in DataFrame\n",
    "            simulated_data.at[i, t] = income\n",
    "    \n",
    "    cov_matrix = simulated_data.cov()\n",
    "\n",
    "    simulated_moments = cov_matrix.values\n",
    "\n",
    "    simulated_moments = np.tril(simulated_moments)\n",
    "\n",
    "    simulated_moments = simulated_moments.reshape(-1,1)\n",
    "\n",
    "    simulated_moments = simulated_moments[simulated_moments!=0].reshape(-1,1) \n",
    "\n",
    "    return simulated_moments"
   ]
  },
  {
   "cell_type": "code",
   "execution_count": 11,
   "metadata": {},
   "outputs": [],
   "source": [
    "def metric_seeded(p, data_moments, num_individuals, num_periods, seed):\n",
    "\n",
    "    simulated_moments = simulate_income_data_seeded(p, num_individuals, num_periods, seed)\n",
    "\n",
    "    distance = simulated_moments - data_moments\n",
    "\n",
    "    dist = np.dot(distance.T, distance)\n",
    "    \n",
    "    return dist"
   ]
  },
  {
   "cell_type": "code",
   "execution_count": 12,
   "metadata": {},
   "outputs": [],
   "source": [
    "def SMM_seeded(p, num_individuals, num_periods, data_moments, seed):\n",
    "\n",
    "    bounds = [(0, 1), (0, 1), (0, 1), (0, 1)]\n",
    "\n",
    "    result = minimize(metric_seeded, p, args=(data_moments, num_individuals, num_periods, seed), method='Nelder-Mead', bounds=bounds)\n",
    "\n",
    "    matched_coefficients = result.x\n",
    "\n",
    "    return matched_coefficients"
   ]
  },
  {
   "cell_type": "code",
   "execution_count": 59,
   "metadata": {},
   "outputs": [
    {
     "name": "stdout",
     "output_type": "stream",
     "text": [
      "[0.14918316 0.90575493 0.05983584 0.2040758 ]\n"
     ]
    }
   ],
   "source": [
    "coeffs_1 = SMM_seeded(initial_params_array, 1000, 19, data_moments, 26)\n",
    "print(coeffs_1)"
   ]
  },
  {
   "cell_type": "code",
   "execution_count": 56,
   "metadata": {},
   "outputs": [],
   "source": [
    "seeds = [ 1, 3, 4, 5, 8, 9, 10, 11, 20, 26, 66]"
   ]
  },
  {
   "cell_type": "code",
   "execution_count": 57,
   "metadata": {},
   "outputs": [],
   "source": [
    "def seeds_loop(s, p, num_inds, num_pds, data):\n",
    "\n",
    "    seeds = np.array(s)\n",
    "\n",
    "    values = np.zeros(shape=(11, 4))\n",
    "\n",
    "    for i in range(len(seeds)):\n",
    "\n",
    "        values[i,:] = SMM_seeded(p, num_inds, num_pds, data, seeds[i])\n",
    "\n",
    "    return values"
   ]
  },
  {
   "cell_type": "code",
   "execution_count": 58,
   "metadata": {},
   "outputs": [
    {
     "name": "stdout",
     "output_type": "stream",
     "text": [
      "[[0.13899356 0.89841806 0.06233006 0.19873708]\n",
      " [0.15572182 0.87074566 0.07022673 0.18661908]\n",
      " [0.13805628 0.91609638 0.05726215 0.20407815]\n",
      " [0.12391966 0.88979949 0.06694634 0.1860586 ]\n",
      " [0.11830516 0.89061022 0.06577114 0.1942395 ]\n",
      " [0.13508864 0.87550667 0.06613267 0.19380673]\n",
      " [0.16287631 0.86786999 0.07039855 0.18847897]\n",
      " [0.12760293 0.87042895 0.06840463 0.18546852]\n",
      " [0.12284117 0.90647172 0.05680831 0.20327515]\n",
      " [0.14923021 0.90567062 0.05987165 0.20406751]\n",
      " [0.15563031 0.87970576 0.06778917 0.18906245]]\n"
     ]
    }
   ],
   "source": [
    "vals = seeds_loop(seeds, params, 1000, 19, data_moments)\n",
    "print(vals)"
   ]
  },
  {
   "cell_type": "markdown",
   "metadata": {},
   "source": [
    "## Work in progress from here on out.... trying to get weighting matrix working correctly"
   ]
  },
  {
   "cell_type": "code",
   "execution_count": 35,
   "metadata": {},
   "outputs": [
    {
     "name": "stderr",
     "output_type": "stream",
     "text": [
      "C:\\Users\\bayle\\AppData\\Local\\Temp\\ipykernel_15172\\4137456590.py:10: RuntimeWarning: divide by zero encountered in divide\n",
      "  newer_weighting_matrix = np.where(newer_weighting_matrix != 0, 1. / newer_weighting_matrix, 0)\n"
     ]
    }
   ],
   "source": [
    "newer_variance_by_year = data.groupby('year')['log_wage'].var()\n",
    "newer_covariance_across_years = data.pivot_table(index='person_ID', columns='year', values='log_wage').cov()\n",
    "newer_data_moments_raw = covariance_across_years.reset_index()\n",
    "newer_data_moments_raw = newer_data_moments_raw.iloc[:,1:].values\n",
    "newer_data_moments_raw = np.tril(newer_data_moments_raw)\n",
    "#display(newer_data_moments_raw)\n",
    "newer_weighting_matrix=np.zeros(shape=(190,190))\n",
    "newer_weighting_matrix[np.diag_indices_from(newer_weighting_matrix)] = newer_data_moments_raw[newer_data_moments_raw != 0]\n",
    "#display(weighting_matrix.shape)\n",
    "newer_weighting_matrix = np.where(newer_weighting_matrix != 0, 1. / newer_weighting_matrix, 0)\n",
    "#display(newer_weighting_matrix)"
   ]
  },
  {
   "cell_type": "code",
   "execution_count": 39,
   "metadata": {},
   "outputs": [],
   "source": [
    "def simulate_income_data_newer(p, num_individuals, num_periods, seed):\n",
    "\n",
    "    var_alpha, rho, var_eta, var_epsilon = p\n",
    "\n",
    "    np.random.seed(seed) # VVD\n",
    "    \n",
    "    # Simulate individual-specific fixed effects\n",
    "    individual_fixed_effects = np.random.normal(scale=np.sqrt(var_alpha), size=num_individuals)\n",
    "    \n",
    "    # Initialize DataFrame to store simulated income data\n",
    "    simulated_data = pd.DataFrame(index=range(num_individuals), columns=range(num_periods))\n",
    "    \n",
    "    # Simulate income data for each individual\n",
    "    for i in range(num_individuals):\n",
    "\n",
    "        # Initialise the autoregressive process\n",
    "        z_process = 0\n",
    "        \n",
    "        # Generate income data for each period\n",
    "        for t in range(num_periods):\n",
    "            \n",
    "            # Simulate shock to the autoregressive process\n",
    "            eta = np.random.normal(scale=np.sqrt(var_eta))\n",
    "            \n",
    "            # Update autoregressive process\n",
    "            z_process = rho * z_process + eta\n",
    "            \n",
    "            # Simulate income for the current period\n",
    "            income = individual_fixed_effects[i] + z_process + np.random.normal(scale=np.sqrt(var_epsilon))\n",
    "            \n",
    "            # Store simulated income in DataFrame\n",
    "            simulated_data.at[i, t] = income\n",
    "    \n",
    "    cov_matrix = simulated_data.cov()\n",
    "\n",
    "    simulated_moments = cov_matrix.values\n",
    "\n",
    "    simulated_moments = np.tril(simulated_moments)\n",
    "\n",
    "    simulated_moments = simulated_moments.reshape(-1,1)\n",
    "\n",
    "    simulated_moments = simulated_moments[simulated_moments!=0].reshape(-1,1) \n",
    "\n",
    "    return simulated_moments"
   ]
  },
  {
   "cell_type": "code",
   "execution_count": 49,
   "metadata": {},
   "outputs": [],
   "source": [
    "def metric_newer(p, data_moments, num_individuals, num_periods, seed, newer_weighting_matrix):\n",
    "\n",
    "    simulated_moments = simulate_income_data_seeded(p, num_individuals, num_periods, seed)\n",
    "\n",
    "    distance = simulated_moments - data_moments\n",
    "\n",
    "    out = np.matmul(distance.T, newer_weighting_matrix)\n",
    "\n",
    "    dist = np.matmul(out, distance)\n",
    "    \n",
    "    return dist"
   ]
  },
  {
   "cell_type": "code",
   "execution_count": 50,
   "metadata": {},
   "outputs": [],
   "source": [
    "def SMM_newer(p, num_individuals, num_periods, data_moments, seed, newer_weighting_matrix):\n",
    "\n",
    "    bounds = [(0, 1), (0, 1), (0, 1), (0, 1)]\n",
    "\n",
    "    result = minimize(metric_newer, p, args=(data_moments, num_individuals, num_periods, seed, newer_weighting_matrix), method='Nelder-Mead', bounds=bounds)\n",
    "\n",
    "    matched_coefficients = result.x\n",
    "\n",
    "    return matched_coefficients"
   ]
  },
  {
   "cell_type": "code",
   "execution_count": 53,
   "metadata": {},
   "outputs": [
    {
     "name": "stdout",
     "output_type": "stream",
     "text": [
      "[0.15684932 0.87026719 0.07139512 0.16982923]\n"
     ]
    }
   ],
   "source": [
    "coeffs_newer = SMM_newer(initial_params_array, 1000, 19, data_moments, 66, newer_weighting_matrix)\n",
    "print(coeffs_newer)"
   ]
  },
  {
   "cell_type": "code",
   "execution_count": 60,
   "metadata": {},
   "outputs": [],
   "source": [
    "def seeds_loop_newer(s, p, num_inds, num_pds, data, newer_weighting_matrix):\n",
    "\n",
    "    seeds = np.array(s)\n",
    "\n",
    "    vals = np.zeros(shape=(11, 4))\n",
    "\n",
    "    for i in range(len(seeds)):\n",
    "\n",
    "        vals[i,:] = SMM_newer(p, num_inds, num_pds, data, seeds[i], newer_weighting_matrix)\n",
    "\n",
    "    return vals"
   ]
  },
  {
   "cell_type": "code",
   "execution_count": 61,
   "metadata": {},
   "outputs": [
    {
     "name": "stdout",
     "output_type": "stream",
     "text": [
      "[[0.1419799  0.89097232 0.06435482 0.18272868]\n",
      " [0.15446919 0.8683401  0.0712595  0.17374009]\n",
      " [0.14011806 0.91310592 0.05734853 0.19487085]\n",
      " [0.12234794 0.88782858 0.06804198 0.17524335]\n",
      " [0.12067007 0.8839199  0.06779949 0.1802715 ]\n",
      " [0.1338009  0.87303392 0.06721523 0.17912126]\n",
      " [0.1608566  0.86527094 0.07200634 0.17066166]\n",
      " [0.12822756 0.86511209 0.07029822 0.17198074]\n",
      " [0.1240573  0.90327049 0.05710609 0.19052547]\n",
      " [0.15215585 0.90115104 0.06034008 0.19278856]\n",
      " [0.15683588 0.87027028 0.07138808 0.16986306]]\n"
     ]
    }
   ],
   "source": [
    "vals_newer = seeds_loop_newer(seeds, params, 1000, 19, data_moments, newer_weighting_matrix)\n",
    "print(vals_newer)"
   ]
  }
 ],
 "metadata": {
  "kernelspec": {
   "display_name": "pandas",
   "language": "python",
   "name": "python3"
  },
  "language_info": {
   "codemirror_mode": {
    "name": "ipython",
    "version": 3
   },
   "file_extension": ".py",
   "mimetype": "text/x-python",
   "name": "python",
   "nbconvert_exporter": "python",
   "pygments_lexer": "ipython3",
   "version": "3.12.2"
  }
 },
 "nbformat": 4,
 "nbformat_minor": 2
}
